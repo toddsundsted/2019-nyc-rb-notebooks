{
 "cells": [
  {
   "cell_type": "code",
   "execution_count": 1,
   "metadata": {},
   "outputs": [
    {
     "data": {
      "text/plain": [
       "true"
      ]
     },
     "execution_count": 1,
     "metadata": {},
     "output_type": "execute_result"
    }
   ],
   "source": [
    "require 'mxnet'\n",
    "require 'mxnet/gluon'\n",
    "require 'mxnet/gluon/loss'\n",
    "require 'mxnet/gluon/nn'\n",
    "require 'mxnet/gluon/trainer'\n",
    "\n",
    "require 'gnuplot'\n",
    "require 'rmagick'"
   ]
  },
  {
   "cell_type": "code",
   "execution_count": 2,
   "metadata": {},
   "outputs": [
    {
     "data": {
      "text/plain": [
       "0.01"
      ]
     },
     "execution_count": 2,
     "metadata": {},
     "output_type": "execute_result"
    }
   ],
   "source": [
    "epochs = 10\n",
    "batch_size = 100\n",
    "learning_rate = 0.01"
   ]
  },
  {
   "cell_type": "code",
   "execution_count": 3,
   "metadata": {},
   "outputs": [
    {
     "data": {
      "text/plain": [
       "#<MXNet::Context:0x00007fb914b3ced0 @device_type_id=2, @device_id=0>"
      ]
     },
     "execution_count": 3,
     "metadata": {},
     "output_type": "execute_result"
    }
   ],
   "source": [
    "data_ctx = model_ctx = MXNet.gpu"
   ]
  },
  {
   "cell_type": "code",
   "execution_count": 4,
   "metadata": {},
   "outputs": [
    {
     "data": {
      "text/plain": [
       "#<MXNet::Gluon::Data::DataLoader:0x00007fb914d37988 @dataset=#<MXNet::Gluon::Data::Vision::MNIST:0x00007fb914d3fc00 @train=false, @train_data=[\"train-images-idx3-ubyte.gz\", \"6c95f4b05d2bf285e1bfb0e7960c31bd3b3f8a7d\"], @train_label=[\"train-labels-idx1-ubyte.gz\", \"2a80914081dc54586dbdf242f9805a6b8d2a15fc\"], @test_data=[\"t10k-images-idx3-ubyte.gz\", \"c3a25af1f52dad7f726cce8cacb138654b760d48\"], @test_label=[\"t10k-labels-idx1-ubyte.gz\", \"763e7fa3757d93b0cdec073cef058b2004252c17\"], @namespace=\"mnist\", @transform=#<Method: main.transform>, @data=\n",
       "[[[[0], \n",
       "   [0], \n",
       "   [0], \n",
       "   [0], \n",
       "   [0], \n",
       "   [0], \n",
       "   [0], \n",
       "   [0], \n",
       "   [0], \n",
       "   [0], \n",
       "   [0], \n",
       "   [0], \n",
       "   [0], \n",
       "   [0], \n",
       "   [0], \n",
       "   [0], \n",
       "   [0], \n",
       "   [0], \n",
       "   [0], \n",
       "   [0], \n",
       " ...\n",
       "<MXNet::NDArray 10000x28x28x1 @cpu(0)>, @label=Numo::UInt8#shape=[10000]\n",
       "[7, 2, 1, 0, 4, 1, 4, 9, 5, 9, 0, 6, 9, 0, 1, 5, 9, 7, 3, 4, 9, 6, 6, 5, 4, ...], @root=\"/Users/tsundsted/.mxnet/datasets/mnist\">, @pin_memory=false, @thread_pool=false, @batch_sampler=#<MXNet::Gluon::Data::BatchSampler:0x00007fb914d37898 @sampler=#<MXNet::Gluon::Data::SequentialSampler:0x00007fb914d37938 @length=10000>, @batch_size=100, @last_batch=:keep, @prev=[]>, @num_workers=0, @batchify_fn=#<Method: MXNet::Gluon::Data::DataLoader#default_batchify_fn>>"
      ]
     },
     "execution_count": 4,
     "metadata": {},
     "output_type": "execute_result"
    }
   ],
   "source": [
    "def transform(data, label)\n",
    "  [data.as_type(:float32) / 255, label]\n",
    "end\n",
    "train_data = MXNet::Gluon::Data::DataLoader.new(\n",
    "  MXNet::Gluon::Data::Vision::MNIST.new(train: true, transform: method(:transform)),\n",
    "  batch_size: batch_size, shuffle: true\n",
    ")\n",
    "test_data = MXNet::Gluon::Data::DataLoader.new(\n",
    "  MXNet::Gluon::Data::Vision::MNIST.new(train: false, transform: method(:transform)),\n",
    "  batch_size: batch_size, shuffle: false\n",
    ")"
   ]
  },
  {
   "cell_type": "code",
   "execution_count": 5,
   "metadata": {},
   "outputs": [
    {
     "data": {
      "text/plain": [
       "MXNet::Gluon::NN::HybridSequential(\n",
       "\n",
       ")"
      ]
     },
     "execution_count": 5,
     "metadata": {},
     "output_type": "execute_result"
    }
   ],
   "source": [
    "net = MXNet::Gluon::NN::HybridSequential.new.tap do |net|\n",
    "  net.with_name_scope do\n",
    "    net.add(\n",
    "      MXNet::Gluon::NN::Dense.new(64, activation: :relu),\n",
    "      MXNet::Gluon::NN::Dense.new(64, activation: :relu),\n",
    "      MXNet::Gluon::NN::Dense.new(10)\n",
    "    )\n",
    "  end\n",
    "  net.init(ctx: model_ctx)\n",
    "  net.hybridize\n",
    "end"
   ]
  },
  {
   "cell_type": "code",
   "execution_count": 6,
   "metadata": {},
   "outputs": [
    {
     "data": {
      "text/plain": [
       "MXNet::Gluon::Loss::SoftmaxCrossEntropyLoss(\n",
       "\n",
       ")"
      ]
     },
     "execution_count": 6,
     "metadata": {},
     "output_type": "execute_result"
    }
   ],
   "source": [
    "softmax_cross_entropy = MXNet::Gluon::Loss::SoftmaxCrossEntropyLoss.new"
   ]
  },
  {
   "cell_type": "code",
   "execution_count": 7,
   "metadata": {},
   "outputs": [
    {
     "data": {
      "text/plain": [
       "#<MXNet::Gluon::Trainer:0x00007fb913203720 @params=[Parameter hybridsequential0_dense0_weight (shape=[64, 0], dtype=float32), Parameter hybridsequential0_dense0_bias (shape=[64], dtype=float32), Parameter hybridsequential0_dense1_weight (shape=[64, 0], dtype=float32), Parameter hybridsequential0_dense1_bias (shape=[64], dtype=float32), Parameter hybridsequential0_dense2_weight (shape=[10, 0], dtype=float32), Parameter hybridsequential0_dense2_bias (shape=[10], dtype=float32)], @compression_params=nil, @scale=1.0, @contexts=[#<MXNet::Context:0x00007fb914b3ced0 @device_type_id=2, @device_id=0>], @optimizer=#<MXNet::Optimizer::SGD:0x00007fb913202b68 @rescale_grad=1.0, @lr=0.01, @lr_scheduler=nil, @wd=0.0, @lr_mult={}, @wd_mult={}, @begin_num_update=0, @num_update=0, @index_update_count={}, @clip_gradient=nil, @multi_precision=false, @idx2name={}, @sym_info=[], @param_dict={0=>Parameter hybridsequential0_dense0_weight (shape=[64, 0], dtype=float32), 1=>Parameter hybridsequential0_dense0_bias (shape=[64], dtype=float32), 2=>Parameter hybridsequential0_dense1_weight (shape=[64, 0], dtype=float32), 3=>Parameter hybridsequential0_dense1_bias (shape=[64], dtype=float32), 4=>Parameter hybridsequential0_dense2_weight (shape=[10, 0], dtype=float32), 5=>Parameter hybridsequential0_dense2_bias (shape=[10], dtype=float32)}, @momentum=0.0, @lazy_update=true>, @updaters=[#<MXNet::Optimizer::Updater:0x00007fb9132022d0 @optimizer=#<MXNet::Optimizer::SGD:0x00007fb913202b68 @rescale_grad=1.0, @lr=0.01, @lr_scheduler=nil, @wd=0.0, @lr_mult={}, @wd_mult={}, @begin_num_update=0, @num_update=0, @index_update_count={}, @clip_gradient=nil, @multi_precision=false, @idx2name={}, @sym_info=[], @param_dict={0=>Parameter hybridsequential0_dense0_weight (shape=[64, 0], dtype=float32), 1=>Parameter hybridsequential0_dense0_bias (shape=[64], dtype=float32), 2=>Parameter hybridsequential0_dense1_weight (shape=[64, 0], dtype=float32), 3=>Parameter hybridsequential0_dense1_bias (shape=[64], dtype=float32), 4=>Parameter hybridsequential0_dense2_weight (shape=[10, 0], dtype=float32), 5=>Parameter hybridsequential0_dense2_bias (shape=[10], dtype=float32)}, @momentum=0.0, @lazy_update=true>, @states={}, @states_synced={}>], @kv_initialized=false, @kvstore=:device, @update_on_kvstore=nil, @distributed=nil>"
      ]
     },
     "execution_count": 7,
     "metadata": {},
     "output_type": "execute_result"
    }
   ],
   "source": [
    "trainer = MXNet::Gluon::Trainer.new(net.collect_params, :sgd, optimizer_params: {learning_rate: learning_rate})"
   ]
  },
  {
   "cell_type": "code",
   "execution_count": 8,
   "metadata": {
    "scrolled": false
   },
   "outputs": [
    {
     "name": "stdout",
     "output_type": "stream",
     "text": [
      "completed 100 iterations of epoch 0\n",
      "completed 200 iterations of epoch 0\n",
      "completed 300 iterations of epoch 0\n",
      "completed 400 iterations of epoch 0\n",
      "completed 500 iterations of epoch 0\n",
      "completed 600 iterations of epoch 0\n",
      "training loss 2.267515062491099\n",
      "testing accuracy 38.23%\n",
      "completed 100 iterations of epoch 1\n",
      "completed 200 iterations of epoch 1\n",
      "completed 300 iterations of epoch 1\n",
      "completed 400 iterations of epoch 1\n",
      "completed 500 iterations of epoch 1\n",
      "completed 600 iterations of epoch 1\n",
      "training loss 1.7460766522089641\n",
      "testing accuracy 68.86%\n",
      "completed 100 iterations of epoch 2\n",
      "completed 200 iterations of epoch 2\n",
      "completed 300 iterations of epoch 2\n",
      "completed 400 iterations of epoch 2\n",
      "completed 500 iterations of epoch 2\n",
      "completed 600 iterations of epoch 2\n",
      "training loss 0.8727875208854675\n",
      "testing accuracy 81.24%\n",
      "completed 100 iterations of epoch 3\n",
      "completed 200 iterations of epoch 3\n",
      "completed 300 iterations of epoch 3\n",
      "completed 400 iterations of epoch 3\n",
      "completed 500 iterations of epoch 3\n",
      "completed 600 iterations of epoch 3\n",
      "training loss 0.5922725824515025\n",
      "testing accuracy 85.28999999999999%\n",
      "completed 100 iterations of epoch 4\n",
      "completed 200 iterations of epoch 4\n",
      "completed 300 iterations of epoch 4\n",
      "completed 400 iterations of epoch 4\n",
      "completed 500 iterations of epoch 4\n",
      "completed 600 iterations of epoch 4\n",
      "training loss 0.4831825345257918\n",
      "testing accuracy 87.36%\n",
      "completed 100 iterations of epoch 5\n",
      "completed 200 iterations of epoch 5\n",
      "completed 300 iterations of epoch 5\n",
      "completed 400 iterations of epoch 5\n",
      "completed 500 iterations of epoch 5\n",
      "completed 600 iterations of epoch 5\n",
      "training loss 0.4265228537718455\n",
      "testing accuracy 88.48%\n",
      "completed 100 iterations of epoch 6\n",
      "completed 200 iterations of epoch 6\n",
      "completed 300 iterations of epoch 6\n",
      "completed 400 iterations of epoch 6\n",
      "completed 500 iterations of epoch 6\n",
      "completed 600 iterations of epoch 6\n",
      "training loss 0.3922645650804043\n",
      "testing accuracy 89.02%\n",
      "completed 100 iterations of epoch 7\n",
      "completed 200 iterations of epoch 7\n",
      "completed 300 iterations of epoch 7\n",
      "completed 400 iterations of epoch 7\n",
      "completed 500 iterations of epoch 7\n",
      "completed 600 iterations of epoch 7\n",
      "training loss 0.3684700752794743\n",
      "testing accuracy 89.73%\n",
      "completed 100 iterations of epoch 8\n",
      "completed 200 iterations of epoch 8\n",
      "completed 300 iterations of epoch 8\n",
      "completed 400 iterations of epoch 8\n",
      "completed 500 iterations of epoch 8\n",
      "completed 600 iterations of epoch 8\n",
      "training loss 0.3499153990795215\n",
      "testing accuracy 90.21000000000001%\n",
      "completed 100 iterations of epoch 9\n",
      "completed 200 iterations of epoch 9\n",
      "completed 300 iterations of epoch 9\n",
      "completed 400 iterations of epoch 9\n",
      "completed 500 iterations of epoch 9\n",
      "completed 600 iterations of epoch 9\n",
      "training loss 0.3338944754252831\n",
      "testing accuracy 90.62%\n"
     ]
    },
    {
     "data": {
      "text/plain": [
       "10"
      ]
     },
     "execution_count": 8,
     "metadata": {},
     "output_type": "execute_result"
    }
   ],
   "source": [
    "losses = []\n",
    "accuracies = []\n",
    "failures = nil\n",
    "\n",
    "epochs.times do |epoch|\n",
    "  # training\n",
    "  training_loss = 0.0\n",
    "  train_data.each.with_index do |(data, label), i|\n",
    "    data = data.as_in_context(model_ctx).reshape([-1, 784])\n",
    "    label = label.as_in_context(model_ctx).reshape([-1, 1])\n",
    "    loss = MXNet::Autograd.record do\n",
    "      output = net.(data)\n",
    "      softmax_cross_entropy.(output, label)\n",
    "    end\n",
    "    loss.backward\n",
    "    trainer.step(data.shape[0])\n",
    "    training_loss += MXNet::NDArray.mean(loss).as_scalar\n",
    "    puts \"completed #{i + 1} iterations of epoch #{epoch}\" if (i + 1) % 100 == 0\n",
    "  end\n",
    "  losses << total_loss = training_loss / (60000 / batch_size)\n",
    "  puts \"training loss #{total_loss}\"\n",
    "  # testing\n",
    "  total = 0.0\n",
    "  correct = 0.0\n",
    "  test_data.each.with_index do |(data, label), i|\n",
    "    data = data.as_in_context(model_ctx).reshape([-1, 784])\n",
    "    label = label.as_in_context(model_ctx).reshape([-1, 1])\n",
    "    begin\n",
    "      output = net.(data)\n",
    "      total += output.shape.first\n",
    "      good, bad = data.zip(output, label).partition { |_, o, l| o.to_a.index(o.to_a.max) == l.to_i }\n",
    "      correct += good.length\n",
    "      failures = bad\n",
    "    end\n",
    "  end\n",
    "  accuracies << accuracy = correct / total\n",
    "  puts \"testing accuracy #{accuracy * 100}%\"\n",
    "end"
   ]
  },
  {
   "cell_type": "code",
   "execution_count": 9,
   "metadata": {},
   "outputs": [
    {
     "data": {
      "image/svg+xml": [
       "<?xml version=\"1.0\" encoding=\"utf-8\"  standalone=\"no\"?>\n",
       "<svg \n",
       " width=\"600\" height=\"480\"\n",
       " viewBox=\"0 0 600 480\"\n",
       " xmlns=\"http://www.w3.org/2000/svg\"\n",
       " xmlns:xlink=\"http://www.w3.org/1999/xlink\"\n",
       ">\n",
       "\n",
       "<title>Gnuplot</title>\n",
       "<desc>Produced by GNUPLOT 5.2 patchlevel 5 </desc>\n",
       "\n",
       "<g id=\"gnuplot_canvas\">\n",
       "\n",
       "<rect x=\"0\" y=\"0\" width=\"600\" height=\"480\" fill=\"none\"/>\n",
       "<defs>\n",
       "\n",
       "\t<circle id='gpDot' r='0.5' stroke-width='0.5' stroke='currentColor'/>\n",
       "\t<path id='gpPt0' stroke-width='0.222' stroke='currentColor' d='M-1,0 h2 M0,-1 v2'/>\n",
       "\t<path id='gpPt1' stroke-width='0.222' stroke='currentColor' d='M-1,-1 L1,1 M1,-1 L-1,1'/>\n",
       "\t<path id='gpPt2' stroke-width='0.222' stroke='currentColor' d='M-1,0 L1,0 M0,-1 L0,1 M-1,-1 L1,1 M-1,1 L1,-1'/>\n",
       "\t<rect id='gpPt3' stroke-width='0.222' stroke='currentColor' x='-1' y='-1' width='2' height='2'/>\n",
       "\t<rect id='gpPt4' stroke-width='0.222' stroke='currentColor' fill='currentColor' x='-1' y='-1' width='2' height='2'/>\n",
       "\t<circle id='gpPt5' stroke-width='0.222' stroke='currentColor' cx='0' cy='0' r='1'/>\n",
       "\t<use xlink:href='#gpPt5' id='gpPt6' fill='currentColor' stroke='none'/>\n",
       "\t<path id='gpPt7' stroke-width='0.222' stroke='currentColor' d='M0,-1.33 L-1.33,0.67 L1.33,0.67 z'/>\n",
       "\t<use xlink:href='#gpPt7' id='gpPt8' fill='currentColor' stroke='none'/>\n",
       "\t<use xlink:href='#gpPt7' id='gpPt9' stroke='currentColor' transform='rotate(180)'/>\n",
       "\t<use xlink:href='#gpPt9' id='gpPt10' fill='currentColor' stroke='none'/>\n",
       "\t<use xlink:href='#gpPt3' id='gpPt11' stroke='currentColor' transform='rotate(45)'/>\n",
       "\t<use xlink:href='#gpPt11' id='gpPt12' fill='currentColor' stroke='none'/>\n",
       "\t<path id='gpPt13' stroke-width='0.222' stroke='currentColor' d='M0,1.330 L1.265,0.411 L0.782,-1.067 L-0.782,-1.076 L-1.265,0.411 z'/>\n",
       "\t<use xlink:href='#gpPt13' id='gpPt14' fill='currentColor' stroke='none'/>\n",
       "\t<filter id='textbox' filterUnits='objectBoundingBox' x='0' y='0' height='1' width='1'>\n",
       "\t  <feFlood flood-color='white' flood-opacity='1' result='bgnd'/>\n",
       "\t  <feComposite in='SourceGraphic' in2='bgnd' operator='atop'/>\n",
       "\t</filter>\n",
       "\t<filter id='greybox' filterUnits='objectBoundingBox' x='0' y='0' height='1' width='1'>\n",
       "\t  <feFlood flood-color='lightgrey' flood-opacity='1' result='grey'/>\n",
       "\t  <feComposite in='SourceGraphic' in2='grey' operator='atop'/>\n",
       "\t</filter>\n",
       "</defs>\n",
       "<g fill=\"none\" color=\"white\" stroke=\"currentColor\" stroke-width=\"1.00\" stroke-linecap=\"butt\" stroke-linejoin=\"miter\">\n",
       "</g>\n",
       "<g fill=\"none\" color=\"black\" stroke=\"currentColor\" stroke-width=\"1.00\" stroke-linecap=\"butt\" stroke-linejoin=\"miter\">\n",
       "\t<path stroke='black'  d='M53.9,444.0 L62.9,444.0 M575.0,444.0 L566.0,444.0  '/>\t<g transform=\"translate(45.6,447.9)\" stroke=\"none\" fill=\"black\" font-family=\"Arial\" font-size=\"12.00\"  text-anchor=\"end\">\n",
       "\t\t<text><tspan font-family=\"Arial\" > 0.3</tspan></text>\n",
       "\t</g>\n",
       "</g>\n",
       "<g fill=\"none\" color=\"black\" stroke=\"currentColor\" stroke-width=\"1.00\" stroke-linecap=\"butt\" stroke-linejoin=\"miter\">\n",
       "\t<path stroke='black'  d='M53.9,383.2 L62.9,383.2 M575.0,383.2 L566.0,383.2  '/>\t<g transform=\"translate(45.6,387.1)\" stroke=\"none\" fill=\"black\" font-family=\"Arial\" font-size=\"12.00\"  text-anchor=\"end\">\n",
       "\t\t<text><tspan font-family=\"Arial\" > 0.4</tspan></text>\n",
       "\t</g>\n",
       "</g>\n",
       "<g fill=\"none\" color=\"black\" stroke=\"currentColor\" stroke-width=\"1.00\" stroke-linecap=\"butt\" stroke-linejoin=\"miter\">\n",
       "\t<path stroke='black'  d='M53.9,322.3 L62.9,322.3 M575.0,322.3 L566.0,322.3  '/>\t<g transform=\"translate(45.6,326.2)\" stroke=\"none\" fill=\"black\" font-family=\"Arial\" font-size=\"12.00\"  text-anchor=\"end\">\n",
       "\t\t<text><tspan font-family=\"Arial\" > 0.5</tspan></text>\n",
       "\t</g>\n",
       "</g>\n",
       "<g fill=\"none\" color=\"black\" stroke=\"currentColor\" stroke-width=\"1.00\" stroke-linecap=\"butt\" stroke-linejoin=\"miter\">\n",
       "\t<path stroke='black'  d='M53.9,261.5 L62.9,261.5 M575.0,261.5 L566.0,261.5  '/>\t<g transform=\"translate(45.6,265.4)\" stroke=\"none\" fill=\"black\" font-family=\"Arial\" font-size=\"12.00\"  text-anchor=\"end\">\n",
       "\t\t<text><tspan font-family=\"Arial\" > 0.6</tspan></text>\n",
       "\t</g>\n",
       "</g>\n",
       "<g fill=\"none\" color=\"black\" stroke=\"currentColor\" stroke-width=\"1.00\" stroke-linecap=\"butt\" stroke-linejoin=\"miter\">\n",
       "\t<path stroke='black'  d='M53.9,200.6 L62.9,200.6 M575.0,200.6 L566.0,200.6  '/>\t<g transform=\"translate(45.6,204.5)\" stroke=\"none\" fill=\"black\" font-family=\"Arial\" font-size=\"12.00\"  text-anchor=\"end\">\n",
       "\t\t<text><tspan font-family=\"Arial\" > 0.7</tspan></text>\n",
       "\t</g>\n",
       "</g>\n",
       "<g fill=\"none\" color=\"black\" stroke=\"currentColor\" stroke-width=\"1.00\" stroke-linecap=\"butt\" stroke-linejoin=\"miter\">\n",
       "\t<path stroke='black'  d='M53.9,139.8 L62.9,139.8 M575.0,139.8 L566.0,139.8  '/>\t<g transform=\"translate(45.6,143.7)\" stroke=\"none\" fill=\"black\" font-family=\"Arial\" font-size=\"12.00\"  text-anchor=\"end\">\n",
       "\t\t<text><tspan font-family=\"Arial\" > 0.8</tspan></text>\n",
       "\t</g>\n",
       "</g>\n",
       "<g fill=\"none\" color=\"black\" stroke=\"currentColor\" stroke-width=\"1.00\" stroke-linecap=\"butt\" stroke-linejoin=\"miter\">\n",
       "\t<path stroke='black'  d='M53.9,78.9 L62.9,78.9 M575.0,78.9 L566.0,78.9  '/>\t<g transform=\"translate(45.6,82.8)\" stroke=\"none\" fill=\"black\" font-family=\"Arial\" font-size=\"12.00\"  text-anchor=\"end\">\n",
       "\t\t<text><tspan font-family=\"Arial\" > 0.9</tspan></text>\n",
       "\t</g>\n",
       "</g>\n",
       "<g fill=\"none\" color=\"black\" stroke=\"currentColor\" stroke-width=\"1.00\" stroke-linecap=\"butt\" stroke-linejoin=\"miter\">\n",
       "\t<path stroke='black'  d='M53.9,18.1 L62.9,18.1 M575.0,18.1 L566.0,18.1  '/>\t<g transform=\"translate(45.6,22.0)\" stroke=\"none\" fill=\"black\" font-family=\"Arial\" font-size=\"12.00\"  text-anchor=\"end\">\n",
       "\t\t<text><tspan font-family=\"Arial\" > 1</tspan></text>\n",
       "\t</g>\n",
       "</g>\n",
       "<g fill=\"none\" color=\"black\" stroke=\"currentColor\" stroke-width=\"1.00\" stroke-linecap=\"butt\" stroke-linejoin=\"miter\">\n",
       "\t<path stroke='black'  d='M53.9,444.0 L53.9,435.0 M53.9,18.1 L53.9,27.1  '/>\t<g transform=\"translate(53.9,465.9)\" stroke=\"none\" fill=\"black\" font-family=\"Arial\" font-size=\"12.00\"  text-anchor=\"middle\">\n",
       "\t\t<text><tspan font-family=\"Arial\" > 0</tspan></text>\n",
       "\t</g>\n",
       "</g>\n",
       "<g fill=\"none\" color=\"black\" stroke=\"currentColor\" stroke-width=\"1.00\" stroke-linecap=\"butt\" stroke-linejoin=\"miter\">\n",
       "\t<path stroke='black'  d='M111.8,444.0 L111.8,435.0 M111.8,18.1 L111.8,27.1  '/>\t<g transform=\"translate(111.8,465.9)\" stroke=\"none\" fill=\"black\" font-family=\"Arial\" font-size=\"12.00\"  text-anchor=\"middle\">\n",
       "\t\t<text><tspan font-family=\"Arial\" > 1</tspan></text>\n",
       "\t</g>\n",
       "</g>\n",
       "<g fill=\"none\" color=\"black\" stroke=\"currentColor\" stroke-width=\"1.00\" stroke-linecap=\"butt\" stroke-linejoin=\"miter\">\n",
       "\t<path stroke='black'  d='M169.7,444.0 L169.7,435.0 M169.7,18.1 L169.7,27.1  '/>\t<g transform=\"translate(169.7,465.9)\" stroke=\"none\" fill=\"black\" font-family=\"Arial\" font-size=\"12.00\"  text-anchor=\"middle\">\n",
       "\t\t<text><tspan font-family=\"Arial\" > 2</tspan></text>\n",
       "\t</g>\n",
       "</g>\n",
       "<g fill=\"none\" color=\"black\" stroke=\"currentColor\" stroke-width=\"1.00\" stroke-linecap=\"butt\" stroke-linejoin=\"miter\">\n",
       "\t<path stroke='black'  d='M227.6,444.0 L227.6,435.0 M227.6,18.1 L227.6,27.1  '/>\t<g transform=\"translate(227.6,465.9)\" stroke=\"none\" fill=\"black\" font-family=\"Arial\" font-size=\"12.00\"  text-anchor=\"middle\">\n",
       "\t\t<text><tspan font-family=\"Arial\" > 3</tspan></text>\n",
       "\t</g>\n",
       "</g>\n",
       "<g fill=\"none\" color=\"black\" stroke=\"currentColor\" stroke-width=\"1.00\" stroke-linecap=\"butt\" stroke-linejoin=\"miter\">\n",
       "\t<path stroke='black'  d='M285.5,444.0 L285.5,435.0 M285.5,18.1 L285.5,27.1  '/>\t<g transform=\"translate(285.5,465.9)\" stroke=\"none\" fill=\"black\" font-family=\"Arial\" font-size=\"12.00\"  text-anchor=\"middle\">\n",
       "\t\t<text><tspan font-family=\"Arial\" > 4</tspan></text>\n",
       "\t</g>\n",
       "</g>\n",
       "<g fill=\"none\" color=\"black\" stroke=\"currentColor\" stroke-width=\"1.00\" stroke-linecap=\"butt\" stroke-linejoin=\"miter\">\n",
       "\t<path stroke='black'  d='M343.4,444.0 L343.4,435.0 M343.4,18.1 L343.4,27.1  '/>\t<g transform=\"translate(343.4,465.9)\" stroke=\"none\" fill=\"black\" font-family=\"Arial\" font-size=\"12.00\"  text-anchor=\"middle\">\n",
       "\t\t<text><tspan font-family=\"Arial\" > 5</tspan></text>\n",
       "\t</g>\n",
       "</g>\n",
       "<g fill=\"none\" color=\"black\" stroke=\"currentColor\" stroke-width=\"1.00\" stroke-linecap=\"butt\" stroke-linejoin=\"miter\">\n",
       "\t<path stroke='black'  d='M401.3,444.0 L401.3,435.0 M401.3,18.1 L401.3,27.1  '/>\t<g transform=\"translate(401.3,465.9)\" stroke=\"none\" fill=\"black\" font-family=\"Arial\" font-size=\"12.00\"  text-anchor=\"middle\">\n",
       "\t\t<text><tspan font-family=\"Arial\" > 6</tspan></text>\n",
       "\t</g>\n",
       "</g>\n",
       "<g fill=\"none\" color=\"black\" stroke=\"currentColor\" stroke-width=\"1.00\" stroke-linecap=\"butt\" stroke-linejoin=\"miter\">\n",
       "\t<path stroke='black'  d='M459.2,444.0 L459.2,435.0 M459.2,18.1 L459.2,27.1  '/>\t<g transform=\"translate(459.2,465.9)\" stroke=\"none\" fill=\"black\" font-family=\"Arial\" font-size=\"12.00\"  text-anchor=\"middle\">\n",
       "\t\t<text><tspan font-family=\"Arial\" > 7</tspan></text>\n",
       "\t</g>\n",
       "</g>\n",
       "<g fill=\"none\" color=\"black\" stroke=\"currentColor\" stroke-width=\"1.00\" stroke-linecap=\"butt\" stroke-linejoin=\"miter\">\n",
       "\t<path stroke='black'  d='M517.1,444.0 L517.1,435.0 M517.1,18.1 L517.1,27.1  '/>\t<g transform=\"translate(517.1,465.9)\" stroke=\"none\" fill=\"black\" font-family=\"Arial\" font-size=\"12.00\"  text-anchor=\"middle\">\n",
       "\t\t<text><tspan font-family=\"Arial\" > 8</tspan></text>\n",
       "\t</g>\n",
       "</g>\n",
       "<g fill=\"none\" color=\"black\" stroke=\"currentColor\" stroke-width=\"1.00\" stroke-linecap=\"butt\" stroke-linejoin=\"miter\">\n",
       "\t<path stroke='black'  d='M575.0,444.0 L575.0,435.0 M575.0,18.1 L575.0,27.1  '/>\t<g transform=\"translate(575.0,465.9)\" stroke=\"none\" fill=\"black\" font-family=\"Arial\" font-size=\"12.00\"  text-anchor=\"middle\">\n",
       "\t\t<text><tspan font-family=\"Arial\" > 9</tspan></text>\n",
       "\t</g>\n",
       "</g>\n",
       "<g fill=\"none\" color=\"black\" stroke=\"currentColor\" stroke-width=\"1.00\" stroke-linecap=\"butt\" stroke-linejoin=\"miter\">\n",
       "</g>\n",
       "<g fill=\"none\" color=\"black\" stroke=\"currentColor\" stroke-width=\"1.00\" stroke-linecap=\"butt\" stroke-linejoin=\"miter\">\n",
       "\t<path stroke='black'  d='M53.9,18.1 L53.9,444.0 L575.0,444.0 L575.0,18.1 L53.9,18.1 Z  '/></g>\n",
       "<g fill=\"none\" color=\"black\" stroke=\"currentColor\" stroke-width=\"1.00\" stroke-linecap=\"butt\" stroke-linejoin=\"miter\">\n",
       "</g>\n",
       "\t<g id=\"gnuplot_plot_1\" ><title>gnuplot_plot_1</title>\n",
       "<g fill=\"none\" color=\"black\" stroke=\"currentColor\" stroke-width=\"1.00\" stroke-linecap=\"butt\" stroke-linejoin=\"miter\">\n",
       "\t<path stroke='rgb(148,   0, 211)'  d='M53.9,393.9 L111.8,207.6 L169.7,132.2 L227.6,107.6 L285.5,95.0 L343.4,88.2 L401.3,84.9 L459.2,80.6\n",
       "\t\tL517.1,77.7 L575.0,75.2  '/>\t<use xlink:href='#gpPt0' transform='translate(53.9,393.9) scale(4.50)' color='rgb(148,   0, 211)'/>\n",
       "\t<use xlink:href='#gpPt0' transform='translate(111.8,207.6) scale(4.50)' color='rgb(148,   0, 211)'/>\n",
       "\t<use xlink:href='#gpPt0' transform='translate(169.7,132.2) scale(4.50)' color='rgb(148,   0, 211)'/>\n",
       "\t<use xlink:href='#gpPt0' transform='translate(227.6,107.6) scale(4.50)' color='rgb(148,   0, 211)'/>\n",
       "\t<use xlink:href='#gpPt0' transform='translate(285.5,95.0) scale(4.50)' color='rgb(148,   0, 211)'/>\n",
       "\t<use xlink:href='#gpPt0' transform='translate(343.4,88.2) scale(4.50)' color='rgb(148,   0, 211)'/>\n",
       "\t<use xlink:href='#gpPt0' transform='translate(401.3,84.9) scale(4.50)' color='rgb(148,   0, 211)'/>\n",
       "\t<use xlink:href='#gpPt0' transform='translate(459.2,80.6) scale(4.50)' color='rgb(148,   0, 211)'/>\n",
       "\t<use xlink:href='#gpPt0' transform='translate(517.1,77.7) scale(4.50)' color='rgb(148,   0, 211)'/>\n",
       "\t<use xlink:href='#gpPt0' transform='translate(575.0,75.2) scale(4.50)' color='rgb(148,   0, 211)'/>\n",
       "</g>\n",
       "\t</g>\n",
       "<g fill=\"none\" color=\"white\" stroke=\"rgb(148,   0, 211)\" stroke-width=\"2.00\" stroke-linecap=\"butt\" stroke-linejoin=\"miter\">\n",
       "</g>\n",
       "<g fill=\"none\" color=\"black\" stroke=\"currentColor\" stroke-width=\"2.00\" stroke-linecap=\"butt\" stroke-linejoin=\"miter\">\n",
       "</g>\n",
       "<g fill=\"none\" color=\"black\" stroke=\"black\" stroke-width=\"1.00\" stroke-linecap=\"butt\" stroke-linejoin=\"miter\">\n",
       "</g>\n",
       "<g fill=\"none\" color=\"black\" stroke=\"currentColor\" stroke-width=\"1.00\" stroke-linecap=\"butt\" stroke-linejoin=\"miter\">\n",
       "\t<path stroke='black'  d='M53.9,18.1 L53.9,444.0 L575.0,444.0 L575.0,18.1 L53.9,18.1 Z  '/></g>\n",
       "<g fill=\"none\" color=\"black\" stroke=\"currentColor\" stroke-width=\"1.00\" stroke-linecap=\"butt\" stroke-linejoin=\"miter\">\n",
       "</g>\n",
       "</g>\n",
       "</svg>\n",
       "\n"
      ],
      "text/plain": [
       "#<Gnuplot::Plot:0x00007fb9128359f0 @cmd=\"plot\", @settings=[[:set, \"terminal\", \"svg enhanced\"], [:set, \"output\", \"\\\"/var/folders/km/x22fsm050cg7vsbp9vcg8t1r0000gp/T/plot20190212-12895-1ifo05q\\\"\"]], @arbitrary_lines=[], @data=[#<Gnuplot::DataSet:0x00007fb913116a38 @data=[[0.0, 1.0, 2.0, 3.0, 4.0, 5.0, 6.0, 7.0, 8.0, 9.0, 10.0], [0.3823, 0.6886, 0.8124, 0.8529, 0.8736, 0.8848, 0.8902, 0.8973, 0.9021, 0.9062]], @axes=nil, @smooth=nil, @matrix=nil, @linecolor=nil, @linewidth=nil, @using=nil, @with=\"linespoints\", @title=\"notitle\">]>"
      ]
     },
     "execution_count": 9,
     "metadata": {},
     "output_type": "execute_result"
    }
   ],
   "source": [
    "Gnuplot::Plot.new do |p|\n",
    "  x = (0..epochs).map(&:to_f)\n",
    "  p.data << Gnuplot::DataSet.new([x, accuracies]) do |ds|\n",
    "    ds.with = \"linespoints\"\n",
    "    ds.notitle\n",
    "  end\n",
    "end"
   ]
  },
  {
   "cell_type": "code",
   "execution_count": 10,
   "metadata": {},
   "outputs": [
    {
     "data": {
      "image/png": "[encoded data removed]",
      "text/plain": [
       " PNG 900x100 DirectClass 16-bit 50kb"
      ]
     },
     "execution_count": 10,
     "metadata": {},
     "output_type": "execute_result"
    }
   ],
   "source": [
    "(0..[9, failures.length - 1].min).inject(Magick::ImageList.new) do |list, i|\n",
    "  values, _, _ = failures[i]\n",
    "  list << Magick::Image.constitute(28, 28, \"I\", values).tap do |img|\n",
    "    img.format = \"png\"\n",
    "  end.resize(100, 100)\n",
    "end.append(false)"
   ]
  },
  {
   "cell_type": "code",
   "execution_count": 11,
   "metadata": {},
   "outputs": [
    {
     "data": {
      "text/plain": [
       "[7, 0, 6, 9, 0, 3, 3, 3, 2]"
      ]
     },
     "execution_count": 11,
     "metadata": {},
     "output_type": "execute_result"
    }
   ],
   "source": [
    "(0..[9, failures.length - 1].min).map do |i|\n",
    "  _, output, _ = failures[i]\n",
    "  output.to_a.index(output.to_a.max)\n",
    "end"
   ]
  },
  {
   "cell_type": "code",
   "execution_count": null,
   "metadata": {},
   "outputs": [],
   "source": []
  }
 ],
 "metadata": {
  "kernelspec": {
   "display_name": "Ruby 2.5.1",
   "language": "ruby",
   "name": "ruby"
  },
  "language_info": {
   "file_extension": ".rb",
   "mimetype": "application/x-ruby",
   "name": "ruby",
   "version": "2.5.1"
  }
 },
 "nbformat": 4,
 "nbformat_minor": 2
}
