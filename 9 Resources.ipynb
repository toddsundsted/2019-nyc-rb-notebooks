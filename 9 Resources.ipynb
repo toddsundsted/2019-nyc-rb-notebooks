{
 "cells": [
  {
   "cell_type": "markdown",
   "metadata": {},
   "source": [
    "# Jupyter\n",
    "* https://jupyter.org/\n",
    "* https://github.com/jupyter/notebook\n",
    "\n",
    "## iRuby\n",
    "* https://github.com/SciRuby/iruby\n",
    "\n",
    "# MXNet\n",
    "* https://mxnet.incubator.apache.org/\n",
    "\n",
    "## Gluon/The Straight Dope\n",
    "* https://gluon.mxnet.io/\n",
    "\n",
    "## MXNet.rb\n",
    "* https://github.com/mrkn/mxnet.rb"
   ]
  },
  {
   "cell_type": "code",
   "execution_count": null,
   "metadata": {},
   "outputs": [],
   "source": []
  }
 ],
 "metadata": {
  "kernelspec": {
   "display_name": "Ruby 2.5.1",
   "language": "ruby",
   "name": "ruby"
  },
  "language_info": {
   "file_extension": ".rb",
   "mimetype": "application/x-ruby",
   "name": "ruby",
   "version": "2.5.1"
  }
 },
 "nbformat": 4,
 "nbformat_minor": 2
}
