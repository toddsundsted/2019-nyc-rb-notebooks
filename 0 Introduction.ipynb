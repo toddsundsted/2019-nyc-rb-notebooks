{
 "cells": [
  {
   "cell_type": "code",
   "execution_count": 1,
   "metadata": {},
   "outputs": [
    {
     "data": {
      "text/html": [
       "<iframe src=\"http://yann.lecun.com/exdb/mnist/\" width=\"900\" height=\"375\"></iframe>"
      ],
      "text/plain": [
       "\"<iframe src=\\\"http://yann.lecun.com/exdb/mnist/\\\" width=\\\"900\\\" height=\\\"375\\\"></iframe>\""
      ]
     },
     "execution_count": 1,
     "metadata": {},
     "output_type": "execute_result"
    }
   ],
   "source": [
    "IRuby.html '<iframe src=\"http://yann.lecun.com/exdb/mnist/\" width=\"900\" height=\"375\"></iframe>'"
   ]
  },
  {
   "cell_type": "code",
   "execution_count": null,
   "metadata": {},
   "outputs": [],
   "source": []
  }
 ],
 "metadata": {
  "kernelspec": {
   "display_name": "Ruby 2.5.1",
   "language": "ruby",
   "name": "ruby"
  },
  "language_info": {
   "file_extension": ".rb",
   "mimetype": "application/x-ruby",
   "name": "ruby",
   "version": "2.5.1"
  }
 },
 "nbformat": 4,
 "nbformat_minor": 2
}
